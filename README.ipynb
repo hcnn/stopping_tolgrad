{
 "cells": [
  {
   "cell_type": "raw",
   "metadata": {},
   "source": [
    "---\n",
    "title: \"stopping_tolgrad\"\n",
    "date: 2018-08-29T08:30:00+02:00\n",
    "draft: false\n",
    "tags: [\"stopping_tolgrad\", \"stopping criteria\", \"termination criteria\", \"gradient descent\", \"numerical optimization\", \"gradient check\"]\n",
    "---"
   ]
  },
  {
   "cell_type": "markdown",
   "metadata": {},
   "source": [
    "### Check Gradients\n",
    "Terminate if the absolute value of all gradients $\\nabla f(x_i)$ are below a certain thereshold at the $k$-th step\n",
    "\n",
    "$$\n",
    "| \\nabla f(x_i) |_k < TolGrad \\quad \\forall \\, i = \\{1,2,...,n\\}\n",
    "$$"
   ]
  },
  {
   "cell_type": "markdown",
   "metadata": {},
   "source": [
    "### C Implementation"
   ]
  },
  {
   "cell_type": "code",
   "execution_count": 1,
   "metadata": {
    "ExecuteTime": {
     "end_time": "2018-08-29T06:22:50.831286Z",
     "start_time": "2018-08-29T06:22:49.770063Z"
    }
   },
   "outputs": [
    {
     "name": "stdout",
     "output_type": "stream",
     "text": [
      "false -> proceed\n",
      "true -> stop\n"
     ]
    }
   ],
   "source": [
    "#include <stdio.h> //printf\n",
    "#include <stdbool.h> //bool\n",
    "#include <math.h>  //fabs\n",
    "\n",
    "/* true  = yes,stop\n",
    " * false = no,proceed */\n",
    "bool stopping_tolgrad(double* g, int n, double tolgrad){\n",
    "    int i = 0;\n",
    "    bool res = true; //assume it's true to terminate\n",
    "    while(res && i<n){ //check if one grad is big enough to continue\n",
    "        if(fabs(g[i]) >= tolgrad){\n",
    "            res = false;\n",
    "            break;\n",
    "        }\n",
    "        i++;\n",
    "    }\n",
    "    return res;\n",
    "}\n",
    "\n",
    "int main(){\n",
    "    double tolgrad = 0.01;\n",
    "    double g1[] = {.001, .005, .01};\n",
    "    bool res1 = stopping_tolgrad(g1, 3, tolgrad);\n",
    "    printf(\"%s\\n\", res1 ? \"true -> stop\" : \"false -> proceed\");\n",
    "\n",
    "    double g2[] = {.001, .005, .01};\n",
    "    bool res2 = stopping_tolgrad(g2, 3, 0.02);\n",
    "    printf(\"%s\\n\", res2 ? \"true -> stop\" : \"false -> proceed\");\n",
    "}"
   ]
  }
 ],
 "metadata": {
  "kernelspec": {
   "display_name": "C",
   "language": "c",
   "name": "c"
  },
  "language_info": {
   "file_extension": ".c",
   "mimetype": "text/plain",
   "name": "c"
  },
  "toc": {
   "base_numbering": 1,
   "nav_menu": {},
   "number_sections": true,
   "sideBar": true,
   "skip_h1_title": false,
   "title_cell": "Table of Contents",
   "title_sidebar": "Contents",
   "toc_cell": false,
   "toc_position": {},
   "toc_section_display": true,
   "toc_window_display": false
  },
  "varInspector": {
   "cols": {
    "lenName": 16,
    "lenType": 16,
    "lenVar": 40
   },
   "kernels_config": {
    "python": {
     "delete_cmd_postfix": "",
     "delete_cmd_prefix": "del ",
     "library": "var_list.py",
     "varRefreshCmd": "print(var_dic_list())"
    },
    "r": {
     "delete_cmd_postfix": ") ",
     "delete_cmd_prefix": "rm(",
     "library": "var_list.r",
     "varRefreshCmd": "cat(var_dic_list()) "
    }
   },
   "types_to_exclude": [
    "module",
    "function",
    "builtin_function_or_method",
    "instance",
    "_Feature"
   ],
   "window_display": false
  }
 },
 "nbformat": 4,
 "nbformat_minor": 2
}
